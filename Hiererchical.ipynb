{
 "cells": [
  {
   "cell_type": "code",
   "execution_count": null,
   "id": "057100fe-c6f6-4070-b742-3b94ae02d23c",
   "metadata": {},
   "outputs": [],
   "source": []
  }
 ],
 "metadata": {
  "kernelspec": {
   "display_name": "",
   "name": ""
  },
  "language_info": {
   "name": ""
  }
 },
 "nbformat": 4,
 "nbformat_minor": 5
}
